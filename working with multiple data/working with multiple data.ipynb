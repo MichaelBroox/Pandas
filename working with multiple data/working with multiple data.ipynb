{
 "cells": [
  {
   "cell_type": "markdown",
   "metadata": {},
   "source": [
    "![AddictivePtyhon](AddictivePython.png)"
   ]
  },
  {
   "cell_type": "code",
   "execution_count": 22,
   "metadata": {},
   "outputs": [],
   "source": [
    "import pandas as pd\n",
    "import glob"
   ]
  },
  {
   "cell_type": "code",
   "execution_count": 2,
   "metadata": {},
   "outputs": [
    {
     "data": {
      "text/html": [
       "<style type='text/css'>\n",
       "table.dataframe th, table.dataframe td{\n",
       "    border: 3px solid purple !important;\n",
       "    color: solid black !important;\n",
       "}\n",
       "</style>\n"
      ],
      "text/plain": [
       "<IPython.core.display.HTML object>"
      ]
     },
     "metadata": {},
     "output_type": "display_data"
    }
   ],
   "source": [
    "%%HTML\n",
    "<style type='text/css'>\n",
    "table.dataframe th, table.dataframe td{\n",
    "    border: 3px solid purple !important;\n",
    "    color: solid black !important;\n",
    "}\n",
    "</style>"
   ]
  },
  {
   "cell_type": "code",
   "execution_count": 3,
   "metadata": {},
   "outputs": [],
   "source": [
    "path = r'text files'\n",
    "\n",
    "allFiles = glob.glob(path + \"/*.txt\")\n",
    "\n",
    "list_ = []\n",
    "for file_ in allFiles:\n",
    "    df = pd.read_csv(file_)\n",
    "    list_.append(df)\n",
    "\n",
    "df = pd.concat(list_, axis=1)"
   ]
  },
  {
   "cell_type": "code",
   "execution_count": 4,
   "metadata": {},
   "outputs": [
    {
     "data": {
      "text/plain": [
       "['text files\\\\Pcp10_Station.txt',\n",
       " 'text files\\\\Pcp11_Station.txt',\n",
       " 'text files\\\\Pcp12_Station.txt',\n",
       " 'text files\\\\Pcp13_Station.txt',\n",
       " 'text files\\\\Pcp14_Station.txt',\n",
       " 'text files\\\\Pcp15_Station.txt',\n",
       " 'text files\\\\Pcp16_Station.txt',\n",
       " 'text files\\\\Pcp17_Station.txt',\n",
       " 'text files\\\\Pcp18_Station.txt',\n",
       " 'text files\\\\Pcp19_Station.txt',\n",
       " 'text files\\\\Pcp1_Station.txt',\n",
       " 'text files\\\\Pcp20_Station.txt',\n",
       " 'text files\\\\Pcp21_Station.txt',\n",
       " 'text files\\\\Pcp22_Station.txt',\n",
       " 'text files\\\\Pcp23_Station.txt',\n",
       " 'text files\\\\Pcp24_Station.txt',\n",
       " 'text files\\\\Pcp25_Station.txt',\n",
       " 'text files\\\\Pcp26_Station.txt',\n",
       " 'text files\\\\Pcp27_Station.txt',\n",
       " 'text files\\\\Pcp28_Station.txt',\n",
       " 'text files\\\\Pcp29_Station.txt',\n",
       " 'text files\\\\Pcp2_Station.txt',\n",
       " 'text files\\\\Pcp30_Station.txt',\n",
       " 'text files\\\\Pcp31_Station.txt',\n",
       " 'text files\\\\Pcp32_Station.txt',\n",
       " 'text files\\\\Pcp3_Station.txt',\n",
       " 'text files\\\\Pcp4_Station.txt',\n",
       " 'text files\\\\Pcp5_Station.txt',\n",
       " 'text files\\\\Pcp6_Station.txt',\n",
       " 'text files\\\\Pcp7_Station.txt',\n",
       " 'text files\\\\Pcp8_Station.txt',\n",
       " 'text files\\\\Pcp9_Station.txt']"
      ]
     },
     "execution_count": 4,
     "metadata": {},
     "output_type": "execute_result"
    }
   ],
   "source": [
    "allFiles"
   ]
  },
  {
   "cell_type": "code",
   "execution_count": 5,
   "metadata": {},
   "outputs": [
    {
     "data": {
      "text/plain": [
       "['Pcp10_Station.txt',\n",
       " 'Pcp11_Station.txt',\n",
       " 'Pcp12_Station.txt',\n",
       " 'Pcp13_Station.txt',\n",
       " 'Pcp14_Station.txt',\n",
       " 'Pcp15_Station.txt',\n",
       " 'Pcp16_Station.txt',\n",
       " 'Pcp17_Station.txt',\n",
       " 'Pcp18_Station.txt',\n",
       " 'Pcp19_Station.txt',\n",
       " 'Pcp1_Station.txt',\n",
       " 'Pcp20_Station.txt',\n",
       " 'Pcp21_Station.txt',\n",
       " 'Pcp22_Station.txt',\n",
       " 'Pcp23_Station.txt',\n",
       " 'Pcp24_Station.txt',\n",
       " 'Pcp25_Station.txt',\n",
       " 'Pcp26_Station.txt',\n",
       " 'Pcp27_Station.txt',\n",
       " 'Pcp28_Station.txt',\n",
       " 'Pcp29_Station.txt',\n",
       " 'Pcp2_Station.txt',\n",
       " 'Pcp30_Station.txt',\n",
       " 'Pcp31_Station.txt',\n",
       " 'Pcp32_Station.txt',\n",
       " 'Pcp3_Station.txt',\n",
       " 'Pcp4_Station.txt',\n",
       " 'Pcp5_Station.txt',\n",
       " 'Pcp6_Station.txt',\n",
       " 'Pcp7_Station.txt',\n",
       " 'Pcp8_Station.txt',\n",
       " 'Pcp9_Station.txt']"
      ]
     },
     "execution_count": 5,
     "metadata": {},
     "output_type": "execute_result"
    }
   ],
   "source": [
    "stations = []\n",
    "\n",
    "filenames = allFiles\n",
    "for filename in filenames:\n",
    "    name = filename.split('\\\\')\n",
    "    stations.append(name[len(name) - 1])\n",
    "\n",
    "stations"
   ]
  },
  {
   "cell_type": "code",
   "execution_count": 6,
   "metadata": {},
   "outputs": [],
   "source": [
    "station_names = []\n",
    "\n",
    "for station in stations:\n",
    "    station_name = station.split('.')\n",
    "    station_names.append(station_name[0])\n",
    "    \n",
    "stations_names = pd.DataFrame({'station': station_names}).T\n",
    "stations_names.to_excel('data/stations.xlsx')"
   ]
  },
  {
   "cell_type": "code",
   "execution_count": 7,
   "metadata": {},
   "outputs": [
    {
     "data": {
      "text/html": [
       "<div>\n",
       "<style scoped>\n",
       "    .dataframe tbody tr th:only-of-type {\n",
       "        vertical-align: middle;\n",
       "    }\n",
       "\n",
       "    .dataframe tbody tr th {\n",
       "        vertical-align: top;\n",
       "    }\n",
       "\n",
       "    .dataframe thead th {\n",
       "        text-align: right;\n",
       "    }\n",
       "</style>\n",
       "<table border=\"1\" class=\"dataframe\">\n",
       "  <thead>\n",
       "    <tr style=\"text-align: right;\">\n",
       "      <th></th>\n",
       "      <th>19790101</th>\n",
       "      <th>19790101</th>\n",
       "      <th>19790101</th>\n",
       "      <th>19790101</th>\n",
       "      <th>19790101</th>\n",
       "      <th>19790101</th>\n",
       "      <th>19790101</th>\n",
       "      <th>19790101</th>\n",
       "      <th>19790101</th>\n",
       "      <th>19790101</th>\n",
       "      <th>...</th>\n",
       "      <th>19790101</th>\n",
       "      <th>19790101</th>\n",
       "      <th>19790101</th>\n",
       "      <th>19790101</th>\n",
       "      <th>19790101</th>\n",
       "      <th>19790101</th>\n",
       "      <th>19790101</th>\n",
       "      <th>19790101</th>\n",
       "      <th>19790101</th>\n",
       "      <th>19790101</th>\n",
       "    </tr>\n",
       "  </thead>\n",
       "  <tbody>\n",
       "    <tr>\n",
       "      <th>0</th>\n",
       "      <td>0.0</td>\n",
       "      <td>0.0</td>\n",
       "      <td>0.0</td>\n",
       "      <td>0.0</td>\n",
       "      <td>0.0</td>\n",
       "      <td>0.0</td>\n",
       "      <td>0.0</td>\n",
       "      <td>0.0</td>\n",
       "      <td>0.0</td>\n",
       "      <td>0.0</td>\n",
       "      <td>...</td>\n",
       "      <td>0.122</td>\n",
       "      <td>0.059</td>\n",
       "      <td>0.010</td>\n",
       "      <td>0.0</td>\n",
       "      <td>0.0</td>\n",
       "      <td>0.0</td>\n",
       "      <td>0.0</td>\n",
       "      <td>0.0</td>\n",
       "      <td>0.0</td>\n",
       "      <td>0.0</td>\n",
       "    </tr>\n",
       "    <tr>\n",
       "      <th>1</th>\n",
       "      <td>0.0</td>\n",
       "      <td>0.0</td>\n",
       "      <td>0.0</td>\n",
       "      <td>0.0</td>\n",
       "      <td>0.0</td>\n",
       "      <td>0.0</td>\n",
       "      <td>0.0</td>\n",
       "      <td>0.0</td>\n",
       "      <td>0.0</td>\n",
       "      <td>0.0</td>\n",
       "      <td>...</td>\n",
       "      <td>0.022</td>\n",
       "      <td>0.000</td>\n",
       "      <td>0.000</td>\n",
       "      <td>0.0</td>\n",
       "      <td>0.0</td>\n",
       "      <td>0.0</td>\n",
       "      <td>0.0</td>\n",
       "      <td>0.0</td>\n",
       "      <td>0.0</td>\n",
       "      <td>0.0</td>\n",
       "    </tr>\n",
       "    <tr>\n",
       "      <th>2</th>\n",
       "      <td>0.0</td>\n",
       "      <td>0.0</td>\n",
       "      <td>0.0</td>\n",
       "      <td>0.0</td>\n",
       "      <td>0.0</td>\n",
       "      <td>0.0</td>\n",
       "      <td>0.0</td>\n",
       "      <td>0.0</td>\n",
       "      <td>0.0</td>\n",
       "      <td>0.0</td>\n",
       "      <td>...</td>\n",
       "      <td>0.000</td>\n",
       "      <td>0.000</td>\n",
       "      <td>0.082</td>\n",
       "      <td>0.0</td>\n",
       "      <td>0.0</td>\n",
       "      <td>0.0</td>\n",
       "      <td>0.0</td>\n",
       "      <td>0.0</td>\n",
       "      <td>0.0</td>\n",
       "      <td>0.0</td>\n",
       "    </tr>\n",
       "    <tr>\n",
       "      <th>3</th>\n",
       "      <td>0.0</td>\n",
       "      <td>0.0</td>\n",
       "      <td>0.0</td>\n",
       "      <td>0.0</td>\n",
       "      <td>0.0</td>\n",
       "      <td>0.0</td>\n",
       "      <td>0.0</td>\n",
       "      <td>0.0</td>\n",
       "      <td>0.0</td>\n",
       "      <td>0.0</td>\n",
       "      <td>...</td>\n",
       "      <td>0.000</td>\n",
       "      <td>0.000</td>\n",
       "      <td>0.000</td>\n",
       "      <td>0.0</td>\n",
       "      <td>0.0</td>\n",
       "      <td>0.0</td>\n",
       "      <td>0.0</td>\n",
       "      <td>0.0</td>\n",
       "      <td>0.0</td>\n",
       "      <td>0.0</td>\n",
       "    </tr>\n",
       "    <tr>\n",
       "      <th>4</th>\n",
       "      <td>0.0</td>\n",
       "      <td>0.0</td>\n",
       "      <td>0.0</td>\n",
       "      <td>0.0</td>\n",
       "      <td>0.0</td>\n",
       "      <td>0.0</td>\n",
       "      <td>0.0</td>\n",
       "      <td>0.0</td>\n",
       "      <td>0.0</td>\n",
       "      <td>0.0</td>\n",
       "      <td>...</td>\n",
       "      <td>0.027</td>\n",
       "      <td>0.000</td>\n",
       "      <td>0.000</td>\n",
       "      <td>0.0</td>\n",
       "      <td>0.0</td>\n",
       "      <td>0.0</td>\n",
       "      <td>0.0</td>\n",
       "      <td>0.0</td>\n",
       "      <td>0.0</td>\n",
       "      <td>0.0</td>\n",
       "    </tr>\n",
       "  </tbody>\n",
       "</table>\n",
       "<p>5 rows × 32 columns</p>\n",
       "</div>"
      ],
      "text/plain": [
       "   19790101  19790101  19790101  19790101  19790101  19790101  19790101  \\\n",
       "0       0.0       0.0       0.0       0.0       0.0       0.0       0.0   \n",
       "1       0.0       0.0       0.0       0.0       0.0       0.0       0.0   \n",
       "2       0.0       0.0       0.0       0.0       0.0       0.0       0.0   \n",
       "3       0.0       0.0       0.0       0.0       0.0       0.0       0.0   \n",
       "4       0.0       0.0       0.0       0.0       0.0       0.0       0.0   \n",
       "\n",
       "   19790101  19790101  19790101  ...  19790101  19790101  19790101  19790101  \\\n",
       "0       0.0       0.0       0.0  ...     0.122     0.059     0.010       0.0   \n",
       "1       0.0       0.0       0.0  ...     0.022     0.000     0.000       0.0   \n",
       "2       0.0       0.0       0.0  ...     0.000     0.000     0.082       0.0   \n",
       "3       0.0       0.0       0.0  ...     0.000     0.000     0.000       0.0   \n",
       "4       0.0       0.0       0.0  ...     0.027     0.000     0.000       0.0   \n",
       "\n",
       "   19790101  19790101  19790101  19790101  19790101  19790101  \n",
       "0       0.0       0.0       0.0       0.0       0.0       0.0  \n",
       "1       0.0       0.0       0.0       0.0       0.0       0.0  \n",
       "2       0.0       0.0       0.0       0.0       0.0       0.0  \n",
       "3       0.0       0.0       0.0       0.0       0.0       0.0  \n",
       "4       0.0       0.0       0.0       0.0       0.0       0.0  \n",
       "\n",
       "[5 rows x 32 columns]"
      ]
     },
     "execution_count": 7,
     "metadata": {},
     "output_type": "execute_result"
    }
   ],
   "source": [
    "df.replace(-99, 0, inplace=True)\n",
    "df.head()"
   ]
  },
  {
   "cell_type": "code",
   "execution_count": 8,
   "metadata": {},
   "outputs": [
    {
     "data": {
      "text/plain": [
       "Index(['19790101', '19790101', '19790101', '19790101', '19790101', '19790101',\n",
       "       '19790101', '19790101', '19790101', '19790101', '19790101', '19790101',\n",
       "       '19790101', '19790101', '19790101', '19790101', '19790101', '19790101',\n",
       "       '19790101', '19790101', '19790101', '19790101', '19790101', '19790101',\n",
       "       '19790101', '19790101', '19790101', '19790101', '19790101', '19790101',\n",
       "       '19790101', '19790101'],\n",
       "      dtype='object')"
      ]
     },
     "execution_count": 8,
     "metadata": {},
     "output_type": "execute_result"
    }
   ],
   "source": [
    "df.columns"
   ]
  },
  {
   "cell_type": "code",
   "execution_count": 9,
   "metadata": {},
   "outputs": [
    {
     "data": {
      "text/html": [
       "<div>\n",
       "<style scoped>\n",
       "    .dataframe tbody tr th:only-of-type {\n",
       "        vertical-align: middle;\n",
       "    }\n",
       "\n",
       "    .dataframe tbody tr th {\n",
       "        vertical-align: top;\n",
       "    }\n",
       "\n",
       "    .dataframe thead th {\n",
       "        text-align: right;\n",
       "    }\n",
       "</style>\n",
       "<table border=\"1\" class=\"dataframe\">\n",
       "  <thead>\n",
       "    <tr style=\"text-align: right;\">\n",
       "      <th></th>\n",
       "      <th>Year</th>\n",
       "    </tr>\n",
       "  </thead>\n",
       "  <tbody>\n",
       "    <tr>\n",
       "      <th>0</th>\n",
       "      <td>1-Jan-79</td>\n",
       "    </tr>\n",
       "    <tr>\n",
       "      <th>1</th>\n",
       "      <td>2-Jan-79</td>\n",
       "    </tr>\n",
       "    <tr>\n",
       "      <th>2</th>\n",
       "      <td>3-Jan-79</td>\n",
       "    </tr>\n",
       "    <tr>\n",
       "      <th>3</th>\n",
       "      <td>4-Jan-79</td>\n",
       "    </tr>\n",
       "    <tr>\n",
       "      <th>4</th>\n",
       "      <td>5-Jan-79</td>\n",
       "    </tr>\n",
       "  </tbody>\n",
       "</table>\n",
       "</div>"
      ],
      "text/plain": [
       "       Year\n",
       "0  1-Jan-79\n",
       "1  2-Jan-79\n",
       "2  3-Jan-79\n",
       "3  4-Jan-79\n",
       "4  5-Jan-79"
      ]
     },
     "execution_count": 9,
     "metadata": {},
     "output_type": "execute_result"
    }
   ],
   "source": [
    "dates = pd.read_csv('csv files/dates.csv')\n",
    "dates.head()"
   ]
  },
  {
   "cell_type": "code",
   "execution_count": 10,
   "metadata": {},
   "outputs": [
    {
     "data": {
      "text/plain": [
       "Year    datetime64[ns]\n",
       "dtype: object"
      ]
     },
     "execution_count": 10,
     "metadata": {},
     "output_type": "execute_result"
    }
   ],
   "source": [
    "dates['Year'] = pd.to_datetime(dates['Year'])\n",
    "dates.dtypes"
   ]
  },
  {
   "cell_type": "code",
   "execution_count": 11,
   "metadata": {},
   "outputs": [],
   "source": [
    "df = pd.concat([df, dates], axis=1)"
   ]
  },
  {
   "cell_type": "code",
   "execution_count": 12,
   "metadata": {},
   "outputs": [
    {
     "data": {
      "text/plain": [
       "Index(['19790101', '19790101', '19790101', '19790101', '19790101', '19790101',\n",
       "       '19790101', '19790101', '19790101', '19790101', '19790101', '19790101',\n",
       "       '19790101', '19790101', '19790101', '19790101', '19790101', '19790101',\n",
       "       '19790101', '19790101', '19790101', '19790101', '19790101', '19790101',\n",
       "       '19790101', '19790101', '19790101', '19790101', '19790101', '19790101',\n",
       "       '19790101', '19790101', 'Year'],\n",
       "      dtype='object')"
      ]
     },
     "execution_count": 12,
     "metadata": {},
     "output_type": "execute_result"
    }
   ],
   "source": [
    "df.columns"
   ]
  },
  {
   "cell_type": "code",
   "execution_count": 13,
   "metadata": {},
   "outputs": [
    {
     "data": {
      "text/plain": [
       "19790101           float64\n",
       "19790101           float64\n",
       "19790101           float64\n",
       "19790101           float64\n",
       "19790101           float64\n",
       "19790101           float64\n",
       "19790101           float64\n",
       "19790101           float64\n",
       "19790101           float64\n",
       "19790101           float64\n",
       "19790101           float64\n",
       "19790101           float64\n",
       "19790101           float64\n",
       "19790101           float64\n",
       "19790101           float64\n",
       "19790101           float64\n",
       "19790101           float64\n",
       "19790101           float64\n",
       "19790101           float64\n",
       "19790101           float64\n",
       "19790101           float64\n",
       "19790101           float64\n",
       "19790101           float64\n",
       "19790101           float64\n",
       "19790101           float64\n",
       "19790101           float64\n",
       "19790101           float64\n",
       "19790101           float64\n",
       "19790101           float64\n",
       "19790101           float64\n",
       "19790101           float64\n",
       "19790101           float64\n",
       "Year        datetime64[ns]\n",
       "dtype: object"
      ]
     },
     "execution_count": 13,
     "metadata": {},
     "output_type": "execute_result"
    }
   ],
   "source": [
    "df.dtypes"
   ]
  },
  {
   "cell_type": "code",
   "execution_count": 14,
   "metadata": {},
   "outputs": [],
   "source": [
    "df['year'] = df['Year'].dt.year\n",
    "\n",
    "columns_to_drop = ['Year',]\n",
    "df = df.drop(columns_to_drop, axis=1)"
   ]
  },
  {
   "cell_type": "code",
   "execution_count": 15,
   "metadata": {},
   "outputs": [
    {
     "data": {
      "text/plain": [
       "Index(['19790101', '19790101', '19790101', '19790101', '19790101', '19790101',\n",
       "       '19790101', '19790101', '19790101', '19790101', '19790101', '19790101',\n",
       "       '19790101', '19790101', '19790101', '19790101', '19790101', '19790101',\n",
       "       '19790101', '19790101', '19790101', '19790101', '19790101', '19790101',\n",
       "       '19790101', '19790101', '19790101', '19790101', '19790101', '19790101',\n",
       "       '19790101', '19790101', 'year'],\n",
       "      dtype='object')"
      ]
     },
     "execution_count": 15,
     "metadata": {},
     "output_type": "execute_result"
    }
   ],
   "source": [
    "df.columns"
   ]
  },
  {
   "cell_type": "code",
   "execution_count": 16,
   "metadata": {},
   "outputs": [
    {
     "data": {
      "text/plain": [
       "array([1979, 1980, 1981, 1982, 1983, 1984, 1985, 1986, 1987, 1988, 1989,\n",
       "       1990, 1991, 1992, 1993, 1994, 1995, 1996, 1997, 1998, 1999, 2000,\n",
       "       2001, 2002, 2003, 2004, 2005, 2006, 2007, 2008, 2009, 2010, 2011,\n",
       "       2012, 2013, 2014, 2015, 2016, 2017, 2018], dtype=int64)"
      ]
     },
     "execution_count": 16,
     "metadata": {},
     "output_type": "execute_result"
    }
   ],
   "source": [
    "df['year'].unique()"
   ]
  },
  {
   "cell_type": "code",
   "execution_count": 17,
   "metadata": {},
   "outputs": [
    {
     "name": "stdout",
     "output_type": "stream",
     "text": [
      "Index(['19790101', '19790101', '19790101', '19790101', '19790101', '19790101',\n",
      "       '19790101', '19790101', '19790101', '19790101', '19790101', '19790101',\n",
      "       '19790101', '19790101', '19790101', '19790101', '19790101', '19790101',\n",
      "       '19790101', '19790101', '19790101', '19790101', '19790101', '19790101',\n",
      "       '19790101', '19790101', '19790101', '19790101', '19790101', '19790101',\n",
      "       '19790101', '19790101'],\n",
      "      dtype='object')\n"
     ]
    }
   ],
   "source": [
    "average = df.groupby(['year']).mean()\n",
    "print(average.columns)"
   ]
  },
  {
   "cell_type": "code",
   "execution_count": 18,
   "metadata": {},
   "outputs": [],
   "source": [
    "average.to_excel('data/Rainfall.xlsx', index=True)"
   ]
  },
  {
   "cell_type": "code",
   "execution_count": 19,
   "metadata": {
    "scrolled": true
   },
   "outputs": [
    {
     "name": "stdout",
     "output_type": "stream",
     "text": [
      "Successfully loaded dataset.\n",
      "Index(['year', 'Pcp10_Station', 'Pcp11_Station', 'Pcp12_Station',\n",
      "       'Pcp13_Station', 'Pcp14_Station', 'Pcp15_Station', 'Pcp16_Station',\n",
      "       'Pcp17_Station', 'Pcp18_Station', 'Pcp19_Station', 'Pcp1_Station',\n",
      "       'Pcp20_Station', 'Pcp21_Station', 'Pcp22_Station', 'Pcp23_Station',\n",
      "       'Pcp24_Station', 'Pcp25_Station', 'Pcp26_Station', 'Pcp27_Station',\n",
      "       'Pcp28_Station', 'Pcp29_Station', 'Pcp2_Station', 'Pcp30_Station',\n",
      "       'Pcp31_Station', 'Pcp32_Station', 'Pcp3_Station', 'Pcp4_Station',\n",
      "       'Pcp5_Station', 'Pcp6_Station', 'Pcp7_Station', 'Pcp8_Station',\n",
      "       'Pcp9_Station'],\n",
      "      dtype='object')\n"
     ]
    }
   ],
   "source": [
    "dataset = 'data/Rainfall1.xlsx'\n",
    "\n",
    "try:\n",
    "    data = pd.read_excel(dataset, 'Sheet1')\n",
    "    print (\"Successfully loaded dataset.\")\n",
    "except:\n",
    "    print (\"Something went wrong.\")\n",
    "\n",
    "print(data.columns)"
   ]
  },
  {
   "cell_type": "code",
   "execution_count": 20,
   "metadata": {},
   "outputs": [],
   "source": [
    "data = pd.melt(data, id_vars=[\"year\"], \n",
    "               value_vars=['Pcp10_Station', 'Pcp11_Station', 'Pcp12_Station',\n",
    "       'Pcp13_Station', 'Pcp14_Station', 'Pcp15_Station', 'Pcp16_Station',\n",
    "       'Pcp17_Station', 'Pcp18_Station', 'Pcp19_Station', 'Pcp1_Station',\n",
    "       'Pcp20_Station', 'Pcp21_Station', 'Pcp22_Station', 'Pcp23_Station',\n",
    "       'Pcp24_Station', 'Pcp25_Station', 'Pcp26_Station', 'Pcp27_Station',\n",
    "       'Pcp28_Station', 'Pcp29_Station', 'Pcp2_Station', 'Pcp30_Station',\n",
    "       'Pcp31_Station', 'Pcp32_Station', 'Pcp3_Station', 'Pcp4_Station',\n",
    "       'Pcp5_Station', 'Pcp6_Station', 'Pcp7_Station', 'Pcp8_Station',\n",
    "       'Pcp9_Station'],\n",
    "               var_name=\"Station\",\n",
    "               value_name=\"Precipitaiton\"\n",
    ")"
   ]
  },
  {
   "cell_type": "code",
   "execution_count": 21,
   "metadata": {},
   "outputs": [],
   "source": [
    "data.to_excel(\"data/Rainfall_final.xlsx\", index=True)"
   ]
  },
  {
   "cell_type": "code",
   "execution_count": null,
   "metadata": {},
   "outputs": [],
   "source": []
  }
 ],
 "metadata": {
  "kernelspec": {
   "display_name": "Python 3",
   "language": "python",
   "name": "python3"
  },
  "language_info": {
   "codemirror_mode": {
    "name": "ipython",
    "version": 3
   },
   "file_extension": ".py",
   "mimetype": "text/x-python",
   "name": "python",
   "nbconvert_exporter": "python",
   "pygments_lexer": "ipython3",
   "version": "3.8.2"
  }
 },
 "nbformat": 4,
 "nbformat_minor": 4
}
